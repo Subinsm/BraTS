{
  "nbformat": 4,
  "nbformat_minor": 0,
  "metadata": {
    "colab": {
      "name": "1a_normalize.ipynb",
      "provenance": [],
      "collapsed_sections": []
    },
    "kernelspec": {
      "name": "python3",
      "display_name": "Python 3"
    }
  },
  "cells": [
    {
      "cell_type": "code",
      "metadata": {
        "id": "IIio3El_IS9k"
      },
      "source": [
        "#Program to perform Zero mean, unit standard deviation normalization and, 98% voxel intensity suppression on BraTS2019 Training dataset\n",
        "#Necessary Packages\n",
        "import os\n",
        "import numpy as np\n",
        "import nibabel as nib\n",
        "import time\n",
        "import matplotlib.pyplot as plt"
      ],
      "execution_count": 1,
      "outputs": []
    },
    {
      "cell_type": "code",
      "metadata": {
        "id": "qai5qA-iIzba"
      },
      "source": [
        "# Run this cell to mount your Google Drive.\n",
        "from google.colab import drive\n",
        "drive.mount('/content/drive')\n"
      ],
      "execution_count": null,
      "outputs": []
    },
    {
      "cell_type": "code",
      "metadata": {
        "id": "B4ZQVVVJIz2p"
      },
      "source": [
        "count=0\n",
        "data_path1 = \"/content/drive/My Drive/BRATS/BraTS20/MICCAI_BraTS2020_TrainingData/\"\n",
        "dirs1=['HGG','LGG']\n",
        "# Loops are for Prediciton of Voxels For All Images in Each Respective Sub-Folders\n",
        "for item1 in dirs1:\n",
        "  data_path2=data_path1 + item1\n",
        "  dirs2=next(os.walk(data_path2))[1]\n",
        "  for item2 in dirs2:\n",
        "    start_time=time.time()\n",
        "    #Read, Load and Extract Data into Numpy Array from All Imaging Modalities for One Patient\n",
        "    seg_file=os.path.join(data_path2,item2,item2 +\"_seg.nii.gz\")\n",
        "    flair_file=os.path.join(data_path2,item2,item2 +\"_flair.nii.gz\")\n",
        "    t2_file=os.path.join(data_path2,item2,item2 +\"_t2.nii.gz\")\n",
        "    t1ce_file=os.path.join(data_path2,item2,item2 +\"_t1ce.nii.gz\")\n",
        "    \n",
        "    img1=nib.load(seg_file)\n",
        "    img2=nib.load(flair_file)\n",
        "    img4=nib.load(t2_file)\n",
        "    img5=nib.load(t1ce_file)\n",
        "    \n",
        "    seg=img1.get_data()\n",
        "    flair=img2.get_data()\n",
        "    t2=img4.get_data()\n",
        "    t1ce=img5.get_data()\n",
        "    \n",
        "    #Zero Mean and Unit Standard Deviation Normalization\n",
        "    meanf=np.mean(flair[flair!=0])\n",
        "    meant2=np.mean(t2[t2!=0])\n",
        "    meant1ce=np.mean(t1ce[t1ce!=0])\n",
        "    \n",
        "    stdf=np.std(flair[flair!=0])\n",
        "    stdt2=np.std(t2[t2!=0])\n",
        "    stdt1ce=np.std(t1ce[t1ce!=0])\n",
        "\n",
        "    flair[flair!=0]=((((flair[flair!=0]-meanf)/stdf)+ 10)*10).astype(dtype=np.int16)\n",
        "    t2[t2!=0]=((((t2[t2!=0]-meant2)/stdt2)+ 10)*10).astype(dtype=np.int16)\n",
        "    t1ce[t1ce!=0]=((((t1ce[t1ce!=0]-meant1ce)/stdt1ce)+ 10)*10).astype(dtype=np.int16)\n",
        "\n",
        "    #flair=(np.reshape(flair,(240,240,155))).astype(dtype=np.int16)\n",
        "    #t2=(np.reshape(t2,(240,240,155))).astype(dtype=np.int16)\n",
        "    #t1ce=(np.reshape(t1ce,(240,240,155))).astype(dtype=np.int16)\n",
        "    \n",
        "    new_image1 = nib.Nifti1Image(flair, img2.affine)\n",
        "    new_image3 = nib.Nifti1Image(t2, img4.affine)\n",
        "    new_image4 = nib.Nifti1Image(t1ce, img5.affine)\n",
        "    new_image5 = nib.Nifti1Image(seg, img1.affine)\n",
        "    \n",
        "    os.mkdir(os.path.join(data_path1,item1 + \"_contr\",item2))\n",
        "    nib.save(new_image1, os.path.join(data_path1,item1 +\"_contr\",item2,item2 +\"_flair.nii.gz\"))\n",
        "    nib.save(new_image3, os.path.join(data_path1,item1 +\"_contr\",item2,item2 +\"_t2.nii.gz\"))\n",
        "    nib.save(new_image4, os.path.join(data_path1,item1 +\"_contr\",item2,item2 +\"_t1ce.nii.gz\"))\n",
        "    nib.save(new_image5, os.path.join(data_path1,item1 +\"_contr\",item2,item2 +\"_seg.nii.gz\"))\n",
        "    count=count+1\n",
        "    print(\"Total Time: %s Seconds, %s Patient ID and Image No. %d\"%(time.time()- start_time,item2,count))"
      ],
      "execution_count": null,
      "outputs": []
    },
    {
      "cell_type": "code",
      "metadata": {
        "id": "w3zI8TMSsTm7"
      },
      "source": [
        ""
      ],
      "execution_count": null,
      "outputs": []
    },
    {
      "cell_type": "code",
      "metadata": {
        "id": "7mbaJmTJ_Xm0"
      },
      "source": [
        ""
      ],
      "execution_count": null,
      "outputs": []
    }
  ]
}